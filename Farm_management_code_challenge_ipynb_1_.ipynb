{
  "cells": [
    {
      "cell_type": "markdown",
      "metadata": {
        "id": "view-in-github",
        "colab_type": "text"
      },
      "source": [
        "<a href=\"https://colab.research.google.com/github/AngelGabby/Bella-Beat-Analysis/blob/main/Farm_management_code_challenge_ipynb_1_.ipynb\" target=\"_parent\"><img src=\"https://colab.research.google.com/assets/colab-badge.svg\" alt=\"Open In Colab\"/></a>"
      ]
    },
    {
      "cell_type": "markdown",
      "metadata": {
        "id": "b8NcDFA9qaV8"
      },
      "source": [
        "<div align=\"center\" style=\" font-size: 80%; text-align: center; margin: 0 auto\">\n",
        "<img src=\"https://raw.githubusercontent.com/Explore-AI/Pictures/master/Python-Notebook-Banners/Code_challenge.png\"  style=\"display: block; margin-left: auto; margin-right: auto;\";/>\n",
        "</div>"
      ],
      "id": "b8NcDFA9qaV8"
    },
    {
      "cell_type": "markdown",
      "id": "f662d169",
      "metadata": {
        "id": "f662d169"
      },
      "source": [
        "# Code challenge: Farm harvest management\n",
        "© ExploreAI Academy"
      ]
    },
    {
      "cell_type": "markdown",
      "id": "26af890c",
      "metadata": {
        "id": "26af890c"
      },
      "source": [
        "In this code challenge, we will assist a farmer in calculating the total harvest from two fields (wheat and potatoes) and the overall expenses and profits for this season.\n",
        "\n"
      ]
    },
    {
      "cell_type": "markdown",
      "id": "2d230d14",
      "metadata": {
        "tags": [],
        "id": "2d230d14"
      },
      "source": [
        "## Learning objectives\n",
        "\n",
        "In this train, we will:\n",
        "- Understand how to perform basic arithmetic operations in a Jupyter notebook.\n",
        "- Know how to assign numerical values to variables.\n",
        "- Know how to use the print() function to display our results.\n"
      ]
    },
    {
      "cell_type": "markdown",
      "metadata": {
        "id": "CJ8BOlG9qaWA"
      },
      "source": [
        "## Instructions\n",
        "\n",
        "- **This code challenge does not count for marks.**\n",
        "- Do not add or remove cells in this notebook.\n",
        "- Answer the questions according to the specifications provided.\n",
        "- Use the given cell in each question to see if your function matches the expected outputs."
      ],
      "id": "CJ8BOlG9qaWA"
    },
    {
      "cell_type": "markdown",
      "metadata": {
        "id": "1uNa9gkwqaWA"
      },
      "source": [
        "## Challenge 1\n",
        "Calculate the total harvest for the farmer."
      ],
      "id": "1uNa9gkwqaWA"
    },
    {
      "cell_type": "code",
      "execution_count": 1,
      "metadata": {
        "colab": {
          "base_uri": "https://localhost:8080/"
        },
        "id": "F9PFBWhlqaWB",
        "outputId": "b49c2825-078e-4259-f015-07fbd916ad71"
      },
      "outputs": [
        {
          "output_type": "stream",
          "name": "stdout",
          "text": [
            "Total harvest in kilograms: 5650\n"
          ]
        }
      ],
      "source": [
        "total_kgs_wheat_harvest = 2050\n",
        "total_kgs_potato_harvest = 3600\n",
        "\n",
        "total_kgs_harvest =total_kgs_wheat_harvest + total_kgs_potato_harvest\n",
        "print(\"Total harvest in kilograms:\", total_kgs_harvest)"
      ],
      "id": "F9PFBWhlqaWB"
    },
    {
      "cell_type": "markdown",
      "metadata": {
        "id": "j5i0tTdoqaWC"
      },
      "source": [
        "**Expected outputs:**\n",
        "```python\n",
        "Total harvest in kilograms: 5650\n",
        "```"
      ],
      "id": "j5i0tTdoqaWC"
    },
    {
      "cell_type": "markdown",
      "metadata": {
        "id": "lnVNhwwlqaWC"
      },
      "source": [
        "## Challenge 2\n",
        "Calculate the total expenses (in dollars) and print the result."
      ],
      "id": "lnVNhwwlqaWC"
    },
    {
      "cell_type": "code",
      "execution_count": 2,
      "metadata": {
        "colab": {
          "base_uri": "https://localhost:8080/"
        },
        "id": "eNW3-Hb8qaWD",
        "outputId": "78cc3c1c-a1b6-4b9b-a3ff-7e83ac25d4c1"
      },
      "outputs": [
        {
          "output_type": "stream",
          "name": "stdout",
          "text": [
            "Total expense in dollars: 3720\n"
          ]
        }
      ],
      "source": [
        "seed_expense = 650\n",
        "labour_expense = 3070\n",
        "\n",
        "total_expenses_dollars = seed_expense + labour_expense\n",
        "print(\"Total expense in dollars:\", total_expenses_dollars)"
      ],
      "id": "eNW3-Hb8qaWD"
    },
    {
      "cell_type": "markdown",
      "metadata": {
        "id": "2PefouJuqaWD"
      },
      "source": [
        "**Expected outputs:**\n",
        "```python\n",
        "Total expenses in dollars: 3720\n",
        "```"
      ],
      "id": "2PefouJuqaWD"
    },
    {
      "cell_type": "markdown",
      "metadata": {
        "id": "nbBHLslhqaWD"
      },
      "source": [
        "## Challenge 3\n",
        "Calculate the total revenue (in dollars) and print the result."
      ],
      "id": "nbBHLslhqaWD"
    },
    {
      "cell_type": "code",
      "execution_count": 7,
      "metadata": {
        "colab": {
          "base_uri": "https://localhost:8080/"
        },
        "id": "cg2on_z7qaWD",
        "outputId": "d7a036fe-7480-4d34-f12a-da37b96f3d53"
      },
      "outputs": [
        {
          "output_type": "stream",
          "name": "stdout",
          "text": [
            "Total revenue in dollars: 9140.0\n"
          ]
        }
      ],
      "source": [
        "price_per_kg_wheat = 2\n",
        "price_per_kg_potato = 1.4\n",
        "\n",
        "total_revenue_dollars = (total_kgs_wheat_harvest * price_per_kg_wheat)  + (total_kgs_potato_harvest * price_per_kg_potato)\n",
        "print(\"Total revenue in dollars:\",  total_revenue_dollars)"
      ],
      "id": "cg2on_z7qaWD"
    },
    {
      "cell_type": "markdown",
      "metadata": {
        "id": "a2piS_s0qaWD"
      },
      "source": [
        "**Expected outputs:**\n",
        "```python\n",
        "Total revenue in dollars: 9140\n",
        "```"
      ],
      "id": "a2piS_s0qaWD"
    },
    {
      "cell_type": "markdown",
      "metadata": {
        "id": "aT0jYhoRqaWD"
      },
      "source": [
        "## Challenge 4\n",
        "Calculate the total profit (in dollars) and print the result."
      ],
      "id": "aT0jYhoRqaWD"
    },
    {
      "cell_type": "code",
      "execution_count": 8,
      "metadata": {
        "colab": {
          "base_uri": "https://localhost:8080/"
        },
        "id": "MrjpZzCaqaWE",
        "outputId": "7b230422-62d8-4984-dad7-d9809e2ebab3"
      },
      "outputs": [
        {
          "output_type": "stream",
          "name": "stdout",
          "text": [
            "Total profit in dollars: 5420.0\n",
            "Total Profit in dollars: 5420.0\n"
          ]
        }
      ],
      "source": [
        "total_profit_dollars = total_revenue_dollars - total_expenses_dollars\n",
        "print(\"Total profit in dollars:\", total_profit_dollars)\n",
        "print(\"Total Profit in dollars:\", total_profit_dollars )"
      ],
      "id": "MrjpZzCaqaWE"
    },
    {
      "cell_type": "markdown",
      "metadata": {
        "id": "8HZK0_O2qaWE"
      },
      "source": [
        "**Expected outputs:**\n",
        "```python\n",
        "Total profit in dollars: 5420\n",
        "```"
      ],
      "id": "8HZK0_O2qaWE"
    },
    {
      "cell_type": "markdown",
      "id": "26fd094b-0fee-46f1-a4b8-73766813c42b",
      "metadata": {
        "tags": [],
        "id": "26fd094b-0fee-46f1-a4b8-73766813c42b"
      },
      "source": [
        "#  \n",
        "\n",
        "<div align=\"center\" style=\" font-size: 80%; text-align: center; margin: 0 auto\">\n",
        "<img src=\"https://raw.githubusercontent.com/Explore-AI/Pictures/master/ExploreAI_logos/EAI_Blue_Dark.png\"  style=\"width:200px\";/>\n",
        "</div>"
      ]
    }
  ],
  "metadata": {
    "kernelspec": {
      "display_name": "Python 3 (ipykernel)",
      "language": "python",
      "name": "python3"
    },
    "language_info": {
      "codemirror_mode": {
        "name": "ipython",
        "version": 3
      },
      "file_extension": ".py",
      "mimetype": "text/x-python",
      "name": "python",
      "nbconvert_exporter": "python",
      "pygments_lexer": "ipython3",
      "version": "3.11.5"
    },
    "colab": {
      "provenance": [],
      "include_colab_link": true
    }
  },
  "nbformat": 4,
  "nbformat_minor": 5
}